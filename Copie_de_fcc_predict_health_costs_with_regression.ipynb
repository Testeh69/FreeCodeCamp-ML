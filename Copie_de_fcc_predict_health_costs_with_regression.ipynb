{
  "cells": [
    {
      "cell_type": "code",
      "execution_count": null,
      "metadata": {
        "id": "1rRo8oNqZ-Rj"
      },
      "outputs": [],
      "source": [
        "# Import libraries. You may or may not use all of these.\n",
        "!pip install -q git+https://github.com/tensorflow/docs\n",
        "import matplotlib.pyplot as plt\n",
        "import numpy as np\n",
        "import pandas as pd\n",
        "\n",
        "try:\n",
        "  # %tensorflow_version only exists in Colab.\n",
        "  %tensorflow_version 2.x\n",
        "except Exception:\n",
        "  pass\n",
        "import tensorflow as tf\n",
        "\n",
        "from tensorflow import keras\n",
        "from tensorflow.keras import layers\n",
        "\n",
        "import tensorflow_docs as tfdocs\n",
        "import tensorflow_docs.plots\n",
        "import tensorflow_docs.modeling"
      ]
    },
    {
      "cell_type": "code",
      "execution_count": null,
      "metadata": {
        "id": "CiX2FI4gZtTt"
      },
      "outputs": [],
      "source": [
        "# Import data\n",
        "!wget https://cdn.freecodecamp.org/project-data/health-costs/insurance.csv\n",
        "dataset = pd.read_csv('insurance.csv')\n",
        "dataset.tail()"
      ]
    },
    {
      "cell_type": "code",
      "source": [
        "len(dataset)"
      ],
      "metadata": {
        "id": "ESZ5ut7LXImY"
      },
      "execution_count": null,
      "outputs": []
    },
    {
      "cell_type": "code",
      "source": [
        "plt.scatter(dataset[\"bmi\"], dataset[\"expenses\"])\n",
        "plt.xlabel(\"bmi\")\n",
        "plt.ylabel(\"expenses\")\n",
        "plt.show()"
      ],
      "metadata": {
        "id": "DojUmc5fTG12"
      },
      "execution_count": null,
      "outputs": []
    },
    {
      "cell_type": "code",
      "source": [
        "plt.scatter(dataset[\"sex\"],dataset[\"expenses\"])\n",
        "plt.show()"
      ],
      "metadata": {
        "id": "YdH82EwiUCEJ"
      },
      "execution_count": null,
      "outputs": []
    },
    {
      "cell_type": "code",
      "source": [
        "plt.scatter(dataset[\"smoker\"],dataset[\"expenses\"])\n",
        "plt.show()"
      ],
      "metadata": {
        "id": "rcMKg7T7UWTL"
      },
      "execution_count": null,
      "outputs": []
    },
    {
      "cell_type": "code",
      "source": [
        "plt.scatter(dataset[\"children\"],dataset[\"expenses\"])\n",
        "plt.show()"
      ],
      "metadata": {
        "id": "4bBEgvNJUeJ4"
      },
      "execution_count": null,
      "outputs": []
    },
    {
      "cell_type": "code",
      "source": [
        "plt.scatter(dataset[\"region\"],dataset[\"expenses\"])\n",
        "plt.show()"
      ],
      "metadata": {
        "id": "8WQudkGhUjZn"
      },
      "execution_count": null,
      "outputs": []
    },
    {
      "cell_type": "code",
      "source": [
        "train_dataset = dataset.sample(frac = 0.8)\n",
        "test_dataset = dataset.drop(train_dataset.index)\n"
      ],
      "metadata": {
        "id": "mq_Q0d6Ic5Hv"
      },
      "execution_count": null,
      "outputs": []
    },
    {
      "cell_type": "code",
      "source": [
        "print(len(train_dataset))"
      ],
      "metadata": {
        "id": "opOI0eKYiYCi"
      },
      "execution_count": null,
      "outputs": []
    },
    {
      "cell_type": "code",
      "source": [
        "train_labels = train_dataset.pop(\"expenses\")\n",
        "test_labels = test_dataset.pop(\"expenses\")\n",
        "train_labels.head()"
      ],
      "metadata": {
        "id": "vTK3Zkwmig-6"
      },
      "execution_count": null,
      "outputs": []
    },
    {
      "cell_type": "code",
      "source": [
        "plt.scatter(train_dataset[\"sex\"],train_labels)\n",
        "plt.show()"
      ],
      "metadata": {
        "id": "PDStrFvTVooB"
      },
      "execution_count": null,
      "outputs": []
    },
    {
      "cell_type": "code",
      "source": [
        "train_dataset.head()"
      ],
      "metadata": {
        "id": "nojnkXVBits_"
      },
      "execution_count": null,
      "outputs": []
    },
    {
      "cell_type": "code",
      "source": [
        "categorical_columns = [\"sex\",\"smoker\",\"region\"]\n",
        "numerical_columns = [\"age\",\"bmi\",\"children\"]\n",
        "\n",
        "features_columns_encoding = []\n",
        "for encoding_features in categorical_columns:\n",
        "  encoding = train_dataset[encoding_features].unique()\n",
        "  features_columns_encoding.append(encoding)\n",
        "print(features_columns_encoding)"
      ],
      "metadata": {
        "id": "SavzDvqGiwLy"
      },
      "execution_count": null,
      "outputs": []
    },
    {
      "cell_type": "code",
      "source": [
        "def encoding_features(dataset, key):\n",
        "    indice_encoding = float(0)\n",
        "    features_encoding = []\n",
        "    dict_features_encoding = []\n",
        "    features_encoding.append(dataset[key].unique())\n",
        "    for i in range(len(features_encoding[0])):\n",
        "        dataset.loc[dataset[key] == features_encoding[0][i], key] = indice_encoding\n",
        "        dict_features_encoding.append({features_encoding[0][i]: indice_encoding})\n",
        "        indice_encoding += float(1)\n",
        "    return dataset\n"
      ],
      "metadata": {
        "id": "fGBaSuSxl488"
      },
      "execution_count": null,
      "outputs": []
    },
    {
      "cell_type": "code",
      "source": [
        "encoding_features(test_dataset,\"sex\")\n",
        "encoding_features(test_dataset,\"smoker\")\n",
        "encoding_features(test_dataset,\"region\")\n",
        "test_dataset.head()"
      ],
      "metadata": {
        "id": "lBIWzRdPFK1K"
      },
      "execution_count": null,
      "outputs": []
    },
    {
      "cell_type": "code",
      "source": [
        "features_test = list()\n",
        "list_key = [\"sex\",\"smoker\",\"region\"]\n",
        "for i in list_key:\n",
        "  features_test.append(test_dataset[i].unique())\n",
        "print(features_test)"
      ],
      "metadata": {
        "id": "06XlAiiWmuCx"
      },
      "execution_count": null,
      "outputs": []
    },
    {
      "cell_type": "code",
      "source": [
        "encoding_features(train_dataset,\"sex\")\n",
        "encoding_features(train_dataset,\"smoker\")\n",
        "encoding_features(train_dataset,\"region\")\n",
        "train_dataset.head()"
      ],
      "metadata": {
        "id": "L4TCIq2SG0iw"
      },
      "execution_count": null,
      "outputs": []
    },
    {
      "cell_type": "code",
      "source": [
        "train_dataset = np.array(train_dataset, dtype = np.float64)\n",
        "test_dataset = np.array(test_dataset,dtype = np.float64)"
      ],
      "metadata": {
        "id": "mmQ46oYQjaGK"
      },
      "execution_count": null,
      "outputs": []
    },
    {
      "cell_type": "code",
      "source": [
        "from tensorflow.keras import regularizers"
      ],
      "metadata": {
        "id": "AaOmotiRsAyZ"
      },
      "execution_count": null,
      "outputs": []
    },
    {
      "cell_type": "code",
      "source": [
        "normalizer = layers.experimental.preprocessing.Normalization()\n",
        "normalizer.adapt(np.array(train_dataset))# dtype float 32 is needed because without this the array cannot be put into a tensor\n",
        "\n",
        "model = keras.Sequential([\n",
        "    normalizer,\n",
        "    layers.Dense(16,kernel_regularizer=regularizers.l2(0.001)),\n",
        "    layers.Dense(4,kernel_regularizer=regularizers.l2(0.001)),\n",
        "    layers.Dropout(0.2),\n",
        "    layers.Dense(1),\n",
        "])"
      ],
      "metadata": {
        "id": "M8H69rNWKynX"
      },
      "execution_count": null,
      "outputs": []
    },
    {
      "cell_type": "code",
      "source": [
        "model.compile(optimizer = tf.optimizers.Adam(learning_rate = 0.01), loss = \"mae\", metrics = [\"mae\",\"mse\"])\n",
        "model.build()\n",
        "model.summary()"
      ],
      "metadata": {
        "id": "_9LT8sAVSN3A"
      },
      "execution_count": null,
      "outputs": []
    },
    {
      "cell_type": "code",
      "source": [
        "model.fit(train_dataset,train_labels,epochs = 100, validation_split = 0.5)"
      ],
      "metadata": {
        "id": "pFPKaSl_Te5r"
      },
      "execution_count": null,
      "outputs": []
    },
    {
      "cell_type": "code",
      "execution_count": null,
      "metadata": {
        "id": "Xe7RXH3N3CWU"
      },
      "outputs": [],
      "source": [
        "#RUN THIS CELL TO TEST YOUR MODEL. DO NOT MODIFY CONTENTS.\n",
        "# Test model by checking how well the model generalizes using the test set.\n",
        "loss, mae, mse = model.evaluate(test_dataset, test_labels, verbose=2)\n",
        "\n",
        "print(\"Testing set Mean Abs Error: {:5.2f} expenses\".format(mae))\n",
        "\n",
        "if mae < 3500:\n",
        "  print(\"You passed the challenge. Great job!\")\n",
        "else:\n",
        "  print(\"The Mean Abs Error must be less than 3500. Keep trying.\")\n",
        "\n",
        "# Plot predictions.\n",
        "test_predictions = model.predict(test_dataset).flatten()\n",
        "\n",
        "a = plt.axes(aspect='equal')\n",
        "plt.scatter(test_labels, test_predictions)\n",
        "plt.xlabel('True values (expenses)')\n",
        "plt.ylabel('Predictions (expenses)')\n",
        "lims = [0, 50000]\n",
        "plt.xlim(lims)\n",
        "plt.ylim(lims)\n",
        "_ = plt.plot(lims,lims)\n"
      ]
    }
  ],
  "metadata": {
    "colab": {
      "private_outputs": true,
      "provenance": [],
      "toc_visible": true
    },
    "kernelspec": {
      "display_name": "Python 3",
      "name": "python3"
    }
  },
  "nbformat": 4,
  "nbformat_minor": 0
}