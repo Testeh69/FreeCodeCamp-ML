{
  "cells": [
    {
      "cell_type": "code",
      "execution_count": 1,
      "metadata": {
        "id": "1rRo8oNqZ-Rj",
        "colab": {
          "base_uri": "https://localhost:8080/"
        },
        "outputId": "c6e142a8-f3f8-404b-8804-9390ba7f4711"
      },
      "outputs": [
        {
          "output_type": "stream",
          "name": "stdout",
          "text": [
            "  Preparing metadata (setup.py) ... \u001b[?25l\u001b[?25hdone\n",
            "Colab only includes TensorFlow 2.x; %tensorflow_version has no effect.\n"
          ]
        }
      ],
      "source": [
        "# Import libraries. You may or may not use all of these.\n",
        "!pip install -q git+https://github.com/tensorflow/docs\n",
        "import matplotlib.pyplot as plt\n",
        "import numpy as np\n",
        "import pandas as pd\n",
        "\n",
        "try:\n",
        "  # %tensorflow_version only exists in Colab.\n",
        "  %tensorflow_version 2.x\n",
        "except Exception:\n",
        "  pass\n",
        "import tensorflow as tf\n",
        "\n",
        "from tensorflow import keras\n",
        "from tensorflow.keras import layers\n",
        "\n",
        "import tensorflow_docs as tfdocs\n",
        "import tensorflow_docs.plots\n",
        "import tensorflow_docs.modeling"
      ]
    },
    {
      "cell_type": "code",
      "execution_count": 2,
      "metadata": {
        "id": "CiX2FI4gZtTt",
        "colab": {
          "base_uri": "https://localhost:8080/",
          "height": 403
        },
        "outputId": "ba6a751a-3dc0-46f6-9c3f-908622fe370a"
      },
      "outputs": [
        {
          "output_type": "stream",
          "name": "stdout",
          "text": [
            "--2023-05-08 11:12:34--  https://cdn.freecodecamp.org/project-data/health-costs/insurance.csv\n",
            "Resolving cdn.freecodecamp.org (cdn.freecodecamp.org)... 104.26.3.33, 104.26.2.33, 172.67.70.149, ...\n",
            "Connecting to cdn.freecodecamp.org (cdn.freecodecamp.org)|104.26.3.33|:443... connected.\n",
            "HTTP request sent, awaiting response... 200 OK\n",
            "Length: 50264 (49K) [text/csv]\n",
            "Saving to: ‘insurance.csv.6’\n",
            "\n",
            "\rinsurance.csv.6       0%[                    ]       0  --.-KB/s               \rinsurance.csv.6     100%[===================>]  49.09K  --.-KB/s    in 0.01s   \n",
            "\n",
            "2023-05-08 11:12:34 (4.64 MB/s) - ‘insurance.csv.6’ saved [50264/50264]\n",
            "\n"
          ]
        },
        {
          "output_type": "execute_result",
          "data": {
            "text/plain": [
              "      age     sex   bmi  children smoker     region  expenses\n",
              "1333   50    male  31.0         3     no  northwest  10600.55\n",
              "1334   18  female  31.9         0     no  northeast   2205.98\n",
              "1335   18  female  36.9         0     no  southeast   1629.83\n",
              "1336   21  female  25.8         0     no  southwest   2007.95\n",
              "1337   61  female  29.1         0    yes  northwest  29141.36"
            ],
            "text/html": [
              "\n",
              "  <div id=\"df-483023ee-154e-452e-b4fa-d371aad34a82\">\n",
              "    <div class=\"colab-df-container\">\n",
              "      <div>\n",
              "<style scoped>\n",
              "    .dataframe tbody tr th:only-of-type {\n",
              "        vertical-align: middle;\n",
              "    }\n",
              "\n",
              "    .dataframe tbody tr th {\n",
              "        vertical-align: top;\n",
              "    }\n",
              "\n",
              "    .dataframe thead th {\n",
              "        text-align: right;\n",
              "    }\n",
              "</style>\n",
              "<table border=\"1\" class=\"dataframe\">\n",
              "  <thead>\n",
              "    <tr style=\"text-align: right;\">\n",
              "      <th></th>\n",
              "      <th>age</th>\n",
              "      <th>sex</th>\n",
              "      <th>bmi</th>\n",
              "      <th>children</th>\n",
              "      <th>smoker</th>\n",
              "      <th>region</th>\n",
              "      <th>expenses</th>\n",
              "    </tr>\n",
              "  </thead>\n",
              "  <tbody>\n",
              "    <tr>\n",
              "      <th>1333</th>\n",
              "      <td>50</td>\n",
              "      <td>male</td>\n",
              "      <td>31.0</td>\n",
              "      <td>3</td>\n",
              "      <td>no</td>\n",
              "      <td>northwest</td>\n",
              "      <td>10600.55</td>\n",
              "    </tr>\n",
              "    <tr>\n",
              "      <th>1334</th>\n",
              "      <td>18</td>\n",
              "      <td>female</td>\n",
              "      <td>31.9</td>\n",
              "      <td>0</td>\n",
              "      <td>no</td>\n",
              "      <td>northeast</td>\n",
              "      <td>2205.98</td>\n",
              "    </tr>\n",
              "    <tr>\n",
              "      <th>1335</th>\n",
              "      <td>18</td>\n",
              "      <td>female</td>\n",
              "      <td>36.9</td>\n",
              "      <td>0</td>\n",
              "      <td>no</td>\n",
              "      <td>southeast</td>\n",
              "      <td>1629.83</td>\n",
              "    </tr>\n",
              "    <tr>\n",
              "      <th>1336</th>\n",
              "      <td>21</td>\n",
              "      <td>female</td>\n",
              "      <td>25.8</td>\n",
              "      <td>0</td>\n",
              "      <td>no</td>\n",
              "      <td>southwest</td>\n",
              "      <td>2007.95</td>\n",
              "    </tr>\n",
              "    <tr>\n",
              "      <th>1337</th>\n",
              "      <td>61</td>\n",
              "      <td>female</td>\n",
              "      <td>29.1</td>\n",
              "      <td>0</td>\n",
              "      <td>yes</td>\n",
              "      <td>northwest</td>\n",
              "      <td>29141.36</td>\n",
              "    </tr>\n",
              "  </tbody>\n",
              "</table>\n",
              "</div>\n",
              "      <button class=\"colab-df-convert\" onclick=\"convertToInteractive('df-483023ee-154e-452e-b4fa-d371aad34a82')\"\n",
              "              title=\"Convert this dataframe to an interactive table.\"\n",
              "              style=\"display:none;\">\n",
              "        \n",
              "  <svg xmlns=\"http://www.w3.org/2000/svg\" height=\"24px\"viewBox=\"0 0 24 24\"\n",
              "       width=\"24px\">\n",
              "    <path d=\"M0 0h24v24H0V0z\" fill=\"none\"/>\n",
              "    <path d=\"M18.56 5.44l.94 2.06.94-2.06 2.06-.94-2.06-.94-.94-2.06-.94 2.06-2.06.94zm-11 1L8.5 8.5l.94-2.06 2.06-.94-2.06-.94L8.5 2.5l-.94 2.06-2.06.94zm10 10l.94 2.06.94-2.06 2.06-.94-2.06-.94-.94-2.06-.94 2.06-2.06.94z\"/><path d=\"M17.41 7.96l-1.37-1.37c-.4-.4-.92-.59-1.43-.59-.52 0-1.04.2-1.43.59L10.3 9.45l-7.72 7.72c-.78.78-.78 2.05 0 2.83L4 21.41c.39.39.9.59 1.41.59.51 0 1.02-.2 1.41-.59l7.78-7.78 2.81-2.81c.8-.78.8-2.07 0-2.86zM5.41 20L4 18.59l7.72-7.72 1.47 1.35L5.41 20z\"/>\n",
              "  </svg>\n",
              "      </button>\n",
              "      \n",
              "  <style>\n",
              "    .colab-df-container {\n",
              "      display:flex;\n",
              "      flex-wrap:wrap;\n",
              "      gap: 12px;\n",
              "    }\n",
              "\n",
              "    .colab-df-convert {\n",
              "      background-color: #E8F0FE;\n",
              "      border: none;\n",
              "      border-radius: 50%;\n",
              "      cursor: pointer;\n",
              "      display: none;\n",
              "      fill: #1967D2;\n",
              "      height: 32px;\n",
              "      padding: 0 0 0 0;\n",
              "      width: 32px;\n",
              "    }\n",
              "\n",
              "    .colab-df-convert:hover {\n",
              "      background-color: #E2EBFA;\n",
              "      box-shadow: 0px 1px 2px rgba(60, 64, 67, 0.3), 0px 1px 3px 1px rgba(60, 64, 67, 0.15);\n",
              "      fill: #174EA6;\n",
              "    }\n",
              "\n",
              "    [theme=dark] .colab-df-convert {\n",
              "      background-color: #3B4455;\n",
              "      fill: #D2E3FC;\n",
              "    }\n",
              "\n",
              "    [theme=dark] .colab-df-convert:hover {\n",
              "      background-color: #434B5C;\n",
              "      box-shadow: 0px 1px 3px 1px rgba(0, 0, 0, 0.15);\n",
              "      filter: drop-shadow(0px 1px 2px rgba(0, 0, 0, 0.3));\n",
              "      fill: #FFFFFF;\n",
              "    }\n",
              "  </style>\n",
              "\n",
              "      <script>\n",
              "        const buttonEl =\n",
              "          document.querySelector('#df-483023ee-154e-452e-b4fa-d371aad34a82 button.colab-df-convert');\n",
              "        buttonEl.style.display =\n",
              "          google.colab.kernel.accessAllowed ? 'block' : 'none';\n",
              "\n",
              "        async function convertToInteractive(key) {\n",
              "          const element = document.querySelector('#df-483023ee-154e-452e-b4fa-d371aad34a82');\n",
              "          const dataTable =\n",
              "            await google.colab.kernel.invokeFunction('convertToInteractive',\n",
              "                                                     [key], {});\n",
              "          if (!dataTable) return;\n",
              "\n",
              "          const docLinkHtml = 'Like what you see? Visit the ' +\n",
              "            '<a target=\"_blank\" href=https://colab.research.google.com/notebooks/data_table.ipynb>data table notebook</a>'\n",
              "            + ' to learn more about interactive tables.';\n",
              "          element.innerHTML = '';\n",
              "          dataTable['output_type'] = 'display_data';\n",
              "          await google.colab.output.renderOutput(dataTable, element);\n",
              "          const docLink = document.createElement('div');\n",
              "          docLink.innerHTML = docLinkHtml;\n",
              "          element.appendChild(docLink);\n",
              "        }\n",
              "      </script>\n",
              "    </div>\n",
              "  </div>\n",
              "  "
            ]
          },
          "metadata": {},
          "execution_count": 2
        }
      ],
      "source": [
        "# Import data\n",
        "!wget https://cdn.freecodecamp.org/project-data/health-costs/insurance.csv\n",
        "dataset = pd.read_csv('insurance.csv')\n",
        "dataset.tail()"
      ]
    },
    {
      "cell_type": "code",
      "source": [
        "len(dataset)"
      ],
      "metadata": {
        "id": "ESZ5ut7LXImY",
        "colab": {
          "base_uri": "https://localhost:8080/"
        },
        "outputId": "6f586f95-7aa3-4a18-c659-cb978350e5ab"
      },
      "execution_count": 3,
      "outputs": [
        {
          "output_type": "execute_result",
          "data": {
            "text/plain": [
              "1338"
            ]
          },
          "metadata": {},
          "execution_count": 3
        }
      ]
    },
    {
      "cell_type": "code",
      "source": [
        "plt.scatter(dataset[\"bmi\"], dataset[\"expenses\"])\n",
        "plt.xlabel(\"bmi\")\n",
        "plt.ylabel(\"expenses\")\n",
        "plt.show()"
      ],
      "metadata": {
        "colab": {
          "base_uri": "https://localhost:8080/",
          "height": 449
        },
        "id": "DojUmc5fTG12",
        "outputId": "19812182-ef97-45e0-eafb-2abc59e9a364"
      },
      "execution_count": 4,
      "outputs": [
        {
          "output_type": "display_data",
          "data": {
            "text/plain": [
              "<Figure size 640x480 with 1 Axes>"
            ],
            "image/png": "[encoded data removed]"
          },
          "metadata": {}
        }
      ]
    },
    {
      "cell_type": "code",
      "source": [
        "plt.scatter(dataset[\"sex\"],dataset[\"expenses\"])\n",
        "plt.show()"
      ],
      "metadata": {
        "colab": {
          "base_uri": "https://localhost:8080/",
          "height": 430
        },
        "id": "YdH82EwiUCEJ",
        "outputId": "9bea9883-22cb-4fb1-88d1-aca87a3fa9c1"
      },
      "execution_count": 5,
      "outputs": [
        {
          "output_type": "display_data",
          "data": {
            "text/plain": [
              "<Figure size 640x480 with 1 Axes>"
            ],
            "image/png": "[encoded data removed]"
          },
          "metadata": {}
        }
      ]
    },
    {
      "cell_type": "code",
      "source": [
        "plt.scatter(dataset[\"smoker\"],dataset[\"expenses\"])\n",
        "plt.show()"
      ],
      "metadata": {
        "colab": {
          "base_uri": "https://localhost:8080/",
          "height": 430
        },
        "id": "rcMKg7T7UWTL",
        "outputId": "703ff458-5ff7-4e52-cc46-018f38458ac4"
      },
      "execution_count": 6,
      "outputs": [
        {
          "output_type": "display_data",
          "data": {
            "text/plain": [
              "<Figure size 640x480 with 1 Axes>"
            ],
            "image/png": "[encoded data removed]"
          },
          "metadata": {}
        }
      ]
    },
    {
      "cell_type": "code",
      "source": [
        "plt.scatter(dataset[\"children\"],dataset[\"expenses\"])\n",
        "plt.show()"
      ],
      "metadata": {
        "colab": {
          "base_uri": "https://localhost:8080/",
          "height": 430
        },
        "id": "4bBEgvNJUeJ4",
        "outputId": "465bb0c7-8fc6-4114-eb40-fb187386556b"
      },
      "execution_count": 7,
      "outputs": [
        {
          "output_type": "display_data",
          "data": {
            "text/plain": [
              "<Figure size 640x480 with 1 Axes>"
            ],
            "image/png": "[encoded data removed]"
          },
          "metadata": {}
        }
      ]
    },
    {
      "cell_type": "code",
      "source": [
        "plt.scatter(dataset[\"region\"],dataset[\"expenses\"])\n",
        "plt.show()"
      ],
      "metadata": {
        "colab": {
          "base_uri": "https://localhost:8080/",
          "height": 430
        },
        "id": "8WQudkGhUjZn",
        "outputId": "254f53c8-617e-4a4d-b21e-34ccb925166d"
      },
      "execution_count": 8,
      "outputs": [
        {
          "output_type": "display_data",
          "data": {
            "text/plain": [
              "<Figure size 640x480 with 1 Axes>"
            ],
            "image/png": "[encoded data removed]"
          },
          "metadata": {}
        }
      ]
    },
    {
      "cell_type": "code",
      "source": [
        "train_dataset = dataset.sample(frac = 0.8)\n",
        "test_dataset = dataset.drop(train_dataset.index)\n"
      ],
      "metadata": {
        "id": "mq_Q0d6Ic5Hv"
      },
      "execution_count": 9,
      "outputs": []
    },
    {
      "cell_type": "code",
      "source": [
        "print(len(train_dataset))"
      ],
      "metadata": {
        "id": "opOI0eKYiYCi",
        "colab": {
          "base_uri": "https://localhost:8080/"
        },
        "outputId": "25403754-726e-449b-efd8-092ba12c086a"
      },
      "execution_count": 10,
      "outputs": [
        {
          "output_type": "stream",
          "name": "stdout",
          "text": [
            "1070\n"
          ]
        }
      ]
    },
    {
      "cell_type": "code",
      "source": [
        "train_labels = train_dataset.pop(\"expenses\")\n",
        "test_labels = test_dataset.pop(\"expenses\")\n",
        "train_labels.head()"
      ],
      "metadata": {
        "id": "vTK3Zkwmig-6",
        "colab": {
          "base_uri": "https://localhost:8080/"
        },
        "outputId": "137993c3-1f24-4efc-ff1c-2c1e6cabb44c"
      },
      "execution_count": 11,
      "outputs": [
        {
          "output_type": "execute_result",
          "data": {
            "text/plain": [
              "454      4686.39\n",
              "601      9174.14\n",
              "1123    18903.49\n",
              "1077     2102.26\n",
              "7        7281.51\n",
              "Name: expenses, dtype: float64"
            ]
          },
          "metadata": {},
          "execution_count": 11
        }
      ]
    },
    {
      "cell_type": "code",
      "source": [
        "plt.scatter(train_dataset[\"sex\"],train_labels)\n",
        "plt.show()"
      ],
      "metadata": {
        "colab": {
          "base_uri": "https://localhost:8080/",
          "height": 430
        },
        "id": "PDStrFvTVooB",
        "outputId": "5f7c7a23-395c-45f1-d5a6-3e88c0401558"
      },
      "execution_count": 12,
      "outputs": [
        {
          "output_type": "display_data",
          "data": {
            "text/plain": [
              "<Figure size 640x480 with 1 Axes>"
            ],
            "image/png": "[encoded data removed]"
          },
          "metadata": {}
        }
      ]
    },
    {
      "cell_type": "code",
      "source": [
        "train_dataset.head()"
      ],
      "metadata": {
        "id": "nojnkXVBits_",
        "colab": {
          "base_uri": "https://localhost:8080/",
          "height": 206
        },
        "outputId": "1a21c108-af17-4c21-c456-b5f1eeab8cdd"
      },
      "execution_count": 13,
      "outputs": [
        {
          "output_type": "execute_result",
          "data": {
            "text/plain": [
              "      age     sex   bmi  children smoker     region\n",
              "454    32    male  46.5         2     no  southeast\n",
              "601    51    male  31.6         0     no  northwest\n",
              "1123   27  female  32.4         1     no  northeast\n",
              "1077   21    male  26.0         0     no  northeast\n",
              "7      37  female  27.7         3     no  northwest"
            ],
            "text/html": [
              "\n",
              "  <div id=\"df-89cbf42c-dd2e-466b-a2ea-9619bc07dba8\">\n",
              "    <div class=\"colab-df-container\">\n",
              "      <div>\n",
              "<style scoped>\n",
              "    .dataframe tbody tr th:only-of-type {\n",
              "        vertical-align: middle;\n",
              "    }\n",
              "\n",
              "    .dataframe tbody tr th {\n",
              "        vertical-align: top;\n",
              "    }\n",
              "\n",
              "    .dataframe thead th {\n",
              "        text-align: right;\n",
              "    }\n",
              "</style>\n",
              "<table border=\"1\" class=\"dataframe\">\n",
              "  <thead>\n",
              "    <tr style=\"text-align: right;\">\n",
              "      <th></th>\n",
              "      <th>age</th>\n",
              "      <th>sex</th>\n",
              "      <th>bmi</th>\n",
              "      <th>children</th>\n",
              "      <th>smoker</th>\n",
              "      <th>region</th>\n",
              "    </tr>\n",
              "  </thead>\n",
              "  <tbody>\n",
              "    <tr>\n",
              "      <th>454</th>\n",
              "      <td>32</td>\n",
              "      <td>male</td>\n",
              "      <td>46.5</td>\n",
              "      <td>2</td>\n",
              "      <td>no</td>\n",
              "      <td>southeast</td>\n",
              "    </tr>\n",
              "    <tr>\n",
              "      <th>601</th>\n",
              "      <td>51</td>\n",
              "      <td>male</td>\n",
              "      <td>31.6</td>\n",
              "      <td>0</td>\n",
              "      <td>no</td>\n",
              "      <td>northwest</td>\n",
              "    </tr>\n",
              "    <tr>\n",
              "      <th>1123</th>\n",
              "      <td>27</td>\n",
              "      <td>female</td>\n",
              "      <td>32.4</td>\n",
              "      <td>1</td>\n",
              "      <td>no</td>\n",
              "      <td>northeast</td>\n",
              "    </tr>\n",
              "    <tr>\n",
              "      <th>1077</th>\n",
              "      <td>21</td>\n",
              "      <td>male</td>\n",
              "      <td>26.0</td>\n",
              "      <td>0</td>\n",
              "      <td>no</td>\n",
              "      <td>northeast</td>\n",
              "    </tr>\n",
              "    <tr>\n",
              "      <th>7</th>\n",
              "      <td>37</td>\n",
              "      <td>female</td>\n",
              "      <td>27.7</td>\n",
              "      <td>3</td>\n",
              "      <td>no</td>\n",
              "      <td>northwest</td>\n",
              "    </tr>\n",
              "  </tbody>\n",
              "</table>\n",
              "</div>\n",
              "      <button class=\"colab-df-convert\" onclick=\"convertToInteractive('df-89cbf42c-dd2e-466b-a2ea-9619bc07dba8')\"\n",
              "              title=\"Convert this dataframe to an interactive table.\"\n",
              "              style=\"display:none;\">\n",
              "        \n",
              "  <svg xmlns=\"http://www.w3.org/2000/svg\" height=\"24px\"viewBox=\"0 0 24 24\"\n",
              "       width=\"24px\">\n",
              "    <path d=\"M0 0h24v24H0V0z\" fill=\"none\"/>\n",
              "    <path d=\"M18.56 5.44l.94 2.06.94-2.06 2.06-.94-2.06-.94-.94-2.06-.94 2.06-2.06.94zm-11 1L8.5 8.5l.94-2.06 2.06-.94-2.06-.94L8.5 2.5l-.94 2.06-2.06.94zm10 10l.94 2.06.94-2.06 2.06-.94-2.06-.94-.94-2.06-.94 2.06-2.06.94z\"/><path d=\"M17.41 7.96l-1.37-1.37c-.4-.4-.92-.59-1.43-.59-.52 0-1.04.2-1.43.59L10.3 9.45l-7.72 7.72c-.78.78-.78 2.05 0 2.83L4 21.41c.39.39.9.59 1.41.59.51 0 1.02-.2 1.41-.59l7.78-7.78 2.81-2.81c.8-.78.8-2.07 0-2.86zM5.41 20L4 18.59l7.72-7.72 1.47 1.35L5.41 20z\"/>\n",
              "  </svg>\n",
              "      </button>\n",
              "      \n",
              "  <style>\n",
              "    .colab-df-container {\n",
              "      display:flex;\n",
              "      flex-wrap:wrap;\n",
              "      gap: 12px;\n",
              "    }\n",
              "\n",
              "    .colab-df-convert {\n",
              "      background-color: #E8F0FE;\n",
              "      border: none;\n",
              "      border-radius: 50%;\n",
              "      cursor: pointer;\n",
              "      display: none;\n",
              "      fill: #1967D2;\n",
              "      height: 32px;\n",
              "      padding: 0 0 0 0;\n",
              "      width: 32px;\n",
              "    }\n",
              "\n",
              "    .colab-df-convert:hover {\n",
              "      background-color: #E2EBFA;\n",
              "      box-shadow: 0px 1px 2px rgba(60, 64, 67, 0.3), 0px 1px 3px 1px rgba(60, 64, 67, 0.15);\n",
              "      fill: #174EA6;\n",
              "    }\n",
              "\n",
              "    [theme=dark] .colab-df-convert {\n",
              "      background-color: #3B4455;\n",
              "      fill: #D2E3FC;\n",
              "    }\n",
              "\n",
              "    [theme=dark] .colab-df-convert:hover {\n",
              "      background-color: #434B5C;\n",
              "      box-shadow: 0px 1px 3px 1px rgba(0, 0, 0, 0.15);\n",
              "      filter: drop-shadow(0px 1px 2px rgba(0, 0, 0, 0.3));\n",
              "      fill: #FFFFFF;\n",
              "    }\n",
              "  </style>\n",
              "\n",
              "      <script>\n",
              "        const buttonEl =\n",
              "          document.querySelector('#df-89cbf42c-dd2e-466b-a2ea-9619bc07dba8 button.colab-df-convert');\n",
              "        buttonEl.style.display =\n",
              "          google.colab.kernel.accessAllowed ? 'block' : 'none';\n",
              "\n",
              "        async function convertToInteractive(key) {\n",
              "          const element = document.querySelector('#df-89cbf42c-dd2e-466b-a2ea-9619bc07dba8');\n",
              "          const dataTable =\n",
              "            await google.colab.kernel.invokeFunction('convertToInteractive',\n",
              "                                                     [key], {});\n",
              "          if (!dataTable) return;\n",
              "\n",
              "          const docLinkHtml = 'Like what you see? Visit the ' +\n",
              "            '<a target=\"_blank\" href=https://colab.research.google.com/notebooks/data_table.ipynb>data table notebook</a>'\n",
              "            + ' to learn more about interactive tables.';\n",
              "          element.innerHTML = '';\n",
              "          dataTable['output_type'] = 'display_data';\n",
              "          await google.colab.output.renderOutput(dataTable, element);\n",
              "          const docLink = document.createElement('div');\n",
              "          docLink.innerHTML = docLinkHtml;\n",
              "          element.appendChild(docLink);\n",
              "        }\n",
              "      </script>\n",
              "    </div>\n",
              "  </div>\n",
              "  "
            ]
          },
          "metadata": {},
          "execution_count": 13
        }
      ]
    },
    {
      "cell_type": "code",
      "source": [
        "categorical_columns = [\"sex\",\"smoker\",\"region\"]\n",
        "numerical_columns = [\"age\",\"bmi\",\"children\"]\n",
        "\n",
        "features_columns_encoding = []\n",
        "for encoding_features in categorical_columns:\n",
        "  encoding = train_dataset[encoding_features].unique()\n",
        "  features_columns_encoding.append(encoding)\n",
        "print(features_columns_encoding)"
      ],
      "metadata": {
        "id": "SavzDvqGiwLy",
        "colab": {
          "base_uri": "https://localhost:8080/"
        },
        "outputId": "091afaca-a8b0-47ec-84cc-dfdb542dcf51"
      },
      "execution_count": 14,
      "outputs": [
        {
          "output_type": "stream",
          "name": "stdout",
          "text": [
            "[array(['male', 'female'], dtype=object), array(['no', 'yes'], dtype=object), array(['southeast', 'northwest', 'northeast', 'southwest'], dtype=object)]\n"
          ]
        }
      ]
    },
    {
      "cell_type": "code",
      "source": [
        "def encoding_features(dataset, key):\n",
        "    indice_encoding = float(0)\n",
        "    features_encoding = []\n",
        "    dict_features_encoding = []\n",
        "    features_encoding.append(dataset[key].unique())\n",
        "    for i in range(len(features_encoding[0])):\n",
        "        dataset.loc[dataset[key] == features_encoding[0][i], key] = indice_encoding\n",
        "        dict_features_encoding.append({features_encoding[0][i]: indice_encoding})\n",
        "        indice_encoding += float(1)\n",
        "    return dataset\n"
      ],
      "metadata": {
        "id": "fGBaSuSxl488"
      },
      "execution_count": 15,
      "outputs": []
    },
    {
      "cell_type": "code",
      "source": [
        "encoding_features(test_dataset,\"sex\")\n",
        "encoding_features(test_dataset,\"smoker\")\n",
        "encoding_features(test_dataset,\"region\")\n",
        "test_dataset.head()"
      ],
      "metadata": {
        "id": "lBIWzRdPFK1K",
        "colab": {
          "base_uri": "https://localhost:8080/",
          "height": 206
        },
        "outputId": "ff87e3cd-c191-4cbd-d6a4-328bbfca2d97"
      },
      "execution_count": 16,
      "outputs": [
        {
          "output_type": "execute_result",
          "data": {
            "text/plain": [
              "    age  sex   bmi  children smoker region\n",
              "8    37  0.0  29.8         2    0.0    0.0\n",
              "23   34  1.0  31.9         1    1.0    0.0\n",
              "26   63  1.0  23.1         0    0.0    0.0\n",
              "30   22  0.0  35.6         0    1.0    1.0\n",
              "33   63  0.0  28.3         0    0.0    2.0"
            ],
            "text/html": [
              "\n",
              "  <div id=\"df-96bfae9f-4c31-4735-ba79-0735ef7e1388\">\n",
              "    <div class=\"colab-df-container\">\n",
              "      <div>\n",
              "<style scoped>\n",
              "    .dataframe tbody tr th:only-of-type {\n",
              "        vertical-align: middle;\n",
              "    }\n",
              "\n",
              "    .dataframe tbody tr th {\n",
              "        vertical-align: top;\n",
              "    }\n",
              "\n",
              "    .dataframe thead th {\n",
              "        text-align: right;\n",
              "    }\n",
              "</style>\n",
              "<table border=\"1\" class=\"dataframe\">\n",
              "  <thead>\n",
              "    <tr style=\"text-align: right;\">\n",
              "      <th></th>\n",
              "      <th>age</th>\n",
              "      <th>sex</th>\n",
              "      <th>bmi</th>\n",
              "      <th>children</th>\n",
              "      <th>smoker</th>\n",
              "      <th>region</th>\n",
              "    </tr>\n",
              "  </thead>\n",
              "  <tbody>\n",
              "    <tr>\n",
              "      <th>8</th>\n",
              "      <td>37</td>\n",
              "      <td>0.0</td>\n",
              "      <td>29.8</td>\n",
              "      <td>2</td>\n",
              "      <td>0.0</td>\n",
              "      <td>0.0</td>\n",
              "    </tr>\n",
              "    <tr>\n",
              "      <th>23</th>\n",
              "      <td>34</td>\n",
              "      <td>1.0</td>\n",
              "      <td>31.9</td>\n",
              "      <td>1</td>\n",
              "      <td>1.0</td>\n",
              "      <td>0.0</td>\n",
              "    </tr>\n",
              "    <tr>\n",
              "      <th>26</th>\n",
              "      <td>63</td>\n",
              "      <td>1.0</td>\n",
              "      <td>23.1</td>\n",
              "      <td>0</td>\n",
              "      <td>0.0</td>\n",
              "      <td>0.0</td>\n",
              "    </tr>\n",
              "    <tr>\n",
              "      <th>30</th>\n",
              "      <td>22</td>\n",
              "      <td>0.0</td>\n",
              "      <td>35.6</td>\n",
              "      <td>0</td>\n",
              "      <td>1.0</td>\n",
              "      <td>1.0</td>\n",
              "    </tr>\n",
              "    <tr>\n",
              "      <th>33</th>\n",
              "      <td>63</td>\n",
              "      <td>0.0</td>\n",
              "      <td>28.3</td>\n",
              "      <td>0</td>\n",
              "      <td>0.0</td>\n",
              "      <td>2.0</td>\n",
              "    </tr>\n",
              "  </tbody>\n",
              "</table>\n",
              "</div>\n",
              "      <button class=\"colab-df-convert\" onclick=\"convertToInteractive('df-96bfae9f-4c31-4735-ba79-0735ef7e1388')\"\n",
              "              title=\"Convert this dataframe to an interactive table.\"\n",
              "              style=\"display:none;\">\n",
              "        \n",
              "  <svg xmlns=\"http://www.w3.org/2000/svg\" height=\"24px\"viewBox=\"0 0 24 24\"\n",
              "       width=\"24px\">\n",
              "    <path d=\"M0 0h24v24H0V0z\" fill=\"none\"/>\n",
              "    <path d=\"M18.56 5.44l.94 2.06.94-2.06 2.06-.94-2.06-.94-.94-2.06-.94 2.06-2.06.94zm-11 1L8.5 8.5l.94-2.06 2.06-.94-2.06-.94L8.5 2.5l-.94 2.06-2.06.94zm10 10l.94 2.06.94-2.06 2.06-.94-2.06-.94-.94-2.06-.94 2.06-2.06.94z\"/><path d=\"M17.41 7.96l-1.37-1.37c-.4-.4-.92-.59-1.43-.59-.52 0-1.04.2-1.43.59L10.3 9.45l-7.72 7.72c-.78.78-.78 2.05 0 2.83L4 21.41c.39.39.9.59 1.41.59.51 0 1.02-.2 1.41-.59l7.78-7.78 2.81-2.81c.8-.78.8-2.07 0-2.86zM5.41 20L4 18.59l7.72-7.72 1.47 1.35L5.41 20z\"/>\n",
              "  </svg>\n",
              "      </button>\n",
              "      \n",
              "  <style>\n",
              "    .colab-df-container {\n",
              "      display:flex;\n",
              "      flex-wrap:wrap;\n",
              "      gap: 12px;\n",
              "    }\n",
              "\n",
              "    .colab-df-convert {\n",
              "      background-color: #E8F0FE;\n",
              "      border: none;\n",
              "      border-radius: 50%;\n",
              "      cursor: pointer;\n",
              "      display: none;\n",
              "      fill: #1967D2;\n",
              "      height: 32px;\n",
              "      padding: 0 0 0 0;\n",
              "      width: 32px;\n",
              "    }\n",
              "\n",
              "    .colab-df-convert:hover {\n",
              "      background-color: #E2EBFA;\n",
              "      box-shadow: 0px 1px 2px rgba(60, 64, 67, 0.3), 0px 1px 3px 1px rgba(60, 64, 67, 0.15);\n",
              "      fill: #174EA6;\n",
              "    }\n",
              "\n",
              "    [theme=dark] .colab-df-convert {\n",
              "      background-color: #3B4455;\n",
              "      fill: #D2E3FC;\n",
              "    }\n",
              "\n",
              "    [theme=dark] .colab-df-convert:hover {\n",
              "      background-color: #434B5C;\n",
              "      box-shadow: 0px 1px 3px 1px rgba(0, 0, 0, 0.15);\n",
              "      filter: drop-shadow(0px 1px 2px rgba(0, 0, 0, 0.3));\n",
              "      fill: #FFFFFF;\n",
              "    }\n",
              "  </style>\n",
              "\n",
              "      <script>\n",
              "        const buttonEl =\n",
              "          document.querySelector('#df-96bfae9f-4c31-4735-ba79-0735ef7e1388 button.colab-df-convert');\n",
              "        buttonEl.style.display =\n",
              "          google.colab.kernel.accessAllowed ? 'block' : 'none';\n",
              "\n",
              "        async function convertToInteractive(key) {\n",
              "          const element = document.querySelector('#df-96bfae9f-4c31-4735-ba79-0735ef7e1388');\n",
              "          const dataTable =\n",
              "            await google.colab.kernel.invokeFunction('convertToInteractive',\n",
              "                                                     [key], {});\n",
              "          if (!dataTable) return;\n",
              "\n",
              "          const docLinkHtml = 'Like what you see? Visit the ' +\n",
              "            '<a target=\"_blank\" href=https://colab.research.google.com/notebooks/data_table.ipynb>data table notebook</a>'\n",
              "            + ' to learn more about interactive tables.';\n",
              "          element.innerHTML = '';\n",
              "          dataTable['output_type'] = 'display_data';\n",
              "          await google.colab.output.renderOutput(dataTable, element);\n",
              "          const docLink = document.createElement('div');\n",
              "          docLink.innerHTML = docLinkHtml;\n",
              "          element.appendChild(docLink);\n",
              "        }\n",
              "      </script>\n",
              "    </div>\n",
              "  </div>\n",
              "  "
            ]
          },
          "metadata": {},
          "execution_count": 16
        }
      ]
    },
    {
      "cell_type": "code",
      "source": [
        "features_test = list()\n",
        "list_key = [\"sex\",\"smoker\",\"region\"]\n",
        "for i in list_key:\n",
        "  features_test.append(test_dataset[i].unique())\n",
        "print(features_test)"
      ],
      "metadata": {
        "id": "06XlAiiWmuCx",
        "colab": {
          "base_uri": "https://localhost:8080/"
        },
        "outputId": "a4e2f601-cec2-41a9-d9f9-13f35de84ba1"
      },
      "execution_count": 17,
      "outputs": [
        {
          "output_type": "stream",
          "name": "stdout",
          "text": [
            "[array([0.0, 1.0], dtype=object), array([0.0, 1.0], dtype=object), array([0.0, 1.0, 2.0, 3.0], dtype=object)]\n"
          ]
        }
      ]
    },
    {
      "cell_type": "code",
      "source": [
        "encoding_features(train_dataset,\"sex\")\n",
        "encoding_features(train_dataset,\"smoker\")\n",
        "encoding_features(train_dataset,\"region\")\n",
        "train_dataset.head()"
      ],
      "metadata": {
        "id": "L4TCIq2SG0iw",
        "colab": {
          "base_uri": "https://localhost:8080/",
          "height": 206
        },
        "outputId": "562c1789-a9cb-4e5d-814b-01868e3eb36c"
      },
      "execution_count": 18,
      "outputs": [
        {
          "output_type": "execute_result",
          "data": {
            "text/plain": [
              "      age  sex   bmi  children smoker region\n",
              "454    32  0.0  46.5         2    0.0    0.0\n",
              "601    51  0.0  31.6         0    0.0    1.0\n",
              "1123   27  1.0  32.4         1    0.0    2.0\n",
              "1077   21  0.0  26.0         0    0.0    2.0\n",
              "7      37  1.0  27.7         3    0.0    1.0"
            ],
            "text/html": [
              "\n",
              "  <div id=\"df-66a793ff-d8e9-4ce9-9f12-683be77599eb\">\n",
              "    <div class=\"colab-df-container\">\n",
              "      <div>\n",
              "<style scoped>\n",
              "    .dataframe tbody tr th:only-of-type {\n",
              "        vertical-align: middle;\n",
              "    }\n",
              "\n",
              "    .dataframe tbody tr th {\n",
              "        vertical-align: top;\n",
              "    }\n",
              "\n",
              "    .dataframe thead th {\n",
              "        text-align: right;\n",
              "    }\n",
              "</style>\n",
              "<table border=\"1\" class=\"dataframe\">\n",
              "  <thead>\n",
              "    <tr style=\"text-align: right;\">\n",
              "      <th></th>\n",
              "      <th>age</th>\n",
              "      <th>sex</th>\n",
              "      <th>bmi</th>\n",
              "      <th>children</th>\n",
              "      <th>smoker</th>\n",
              "      <th>region</th>\n",
              "    </tr>\n",
              "  </thead>\n",
              "  <tbody>\n",
              "    <tr>\n",
              "      <th>454</th>\n",
              "      <td>32</td>\n",
              "      <td>0.0</td>\n",
              "      <td>46.5</td>\n",
              "      <td>2</td>\n",
              "      <td>0.0</td>\n",
              "      <td>0.0</td>\n",
              "    </tr>\n",
              "    <tr>\n",
              "      <th>601</th>\n",
              "      <td>51</td>\n",
              "      <td>0.0</td>\n",
              "      <td>31.6</td>\n",
              "      <td>0</td>\n",
              "      <td>0.0</td>\n",
              "      <td>1.0</td>\n",
              "    </tr>\n",
              "    <tr>\n",
              "      <th>1123</th>\n",
              "      <td>27</td>\n",
              "      <td>1.0</td>\n",
              "      <td>32.4</td>\n",
              "      <td>1</td>\n",
              "      <td>0.0</td>\n",
              "      <td>2.0</td>\n",
              "    </tr>\n",
              "    <tr>\n",
              "      <th>1077</th>\n",
              "      <td>21</td>\n",
              "      <td>0.0</td>\n",
              "      <td>26.0</td>\n",
              "      <td>0</td>\n",
              "      <td>0.0</td>\n",
              "      <td>2.0</td>\n",
              "    </tr>\n",
              "    <tr>\n",
              "      <th>7</th>\n",
              "      <td>37</td>\n",
              "      <td>1.0</td>\n",
              "      <td>27.7</td>\n",
              "      <td>3</td>\n",
              "      <td>0.0</td>\n",
              "      <td>1.0</td>\n",
              "    </tr>\n",
              "  </tbody>\n",
              "</table>\n",
              "</div>\n",
              "      <button class=\"colab-df-convert\" onclick=\"convertToInteractive('df-66a793ff-d8e9-4ce9-9f12-683be77599eb')\"\n",
              "              title=\"Convert this dataframe to an interactive table.\"\n",
              "              style=\"display:none;\">\n",
              "        \n",
              "  <svg xmlns=\"http://www.w3.org/2000/svg\" height=\"24px\"viewBox=\"0 0 24 24\"\n",
              "       width=\"24px\">\n",
              "    <path d=\"M0 0h24v24H0V0z\" fill=\"none\"/>\n",
              "    <path d=\"M18.56 5.44l.94 2.06.94-2.06 2.06-.94-2.06-.94-.94-2.06-.94 2.06-2.06.94zm-11 1L8.5 8.5l.94-2.06 2.06-.94-2.06-.94L8.5 2.5l-.94 2.06-2.06.94zm10 10l.94 2.06.94-2.06 2.06-.94-2.06-.94-.94-2.06-.94 2.06-2.06.94z\"/><path d=\"M17.41 7.96l-1.37-1.37c-.4-.4-.92-.59-1.43-.59-.52 0-1.04.2-1.43.59L10.3 9.45l-7.72 7.72c-.78.78-.78 2.05 0 2.83L4 21.41c.39.39.9.59 1.41.59.51 0 1.02-.2 1.41-.59l7.78-7.78 2.81-2.81c.8-.78.8-2.07 0-2.86zM5.41 20L4 18.59l7.72-7.72 1.47 1.35L5.41 20z\"/>\n",
              "  </svg>\n",
              "      </button>\n",
              "      \n",
              "  <style>\n",
              "    .colab-df-container {\n",
              "      display:flex;\n",
              "      flex-wrap:wrap;\n",
              "      gap: 12px;\n",
              "    }\n",
              "\n",
              "    .colab-df-convert {\n",
              "      background-color: #E8F0FE;\n",
              "      border: none;\n",
              "      border-radius: 50%;\n",
              "      cursor: pointer;\n",
              "      display: none;\n",
              "      fill: #1967D2;\n",
              "      height: 32px;\n",
              "      padding: 0 0 0 0;\n",
              "      width: 32px;\n",
              "    }\n",
              "\n",
              "    .colab-df-convert:hover {\n",
              "      background-color: #E2EBFA;\n",
              "      box-shadow: 0px 1px 2px rgba(60, 64, 67, 0.3), 0px 1px 3px 1px rgba(60, 64, 67, 0.15);\n",
              "      fill: #174EA6;\n",
              "    }\n",
              "\n",
              "    [theme=dark] .colab-df-convert {\n",
              "      background-color: #3B4455;\n",
              "      fill: #D2E3FC;\n",
              "    }\n",
              "\n",
              "    [theme=dark] .colab-df-convert:hover {\n",
              "      background-color: #434B5C;\n",
              "      box-shadow: 0px 1px 3px 1px rgba(0, 0, 0, 0.15);\n",
              "      filter: drop-shadow(0px 1px 2px rgba(0, 0, 0, 0.3));\n",
              "      fill: #FFFFFF;\n",
              "    }\n",
              "  </style>\n",
              "\n",
              "      <script>\n",
              "        const buttonEl =\n",
              "          document.querySelector('#df-66a793ff-d8e9-4ce9-9f12-683be77599eb button.colab-df-convert');\n",
              "        buttonEl.style.display =\n",
              "          google.colab.kernel.accessAllowed ? 'block' : 'none';\n",
              "\n",
              "        async function convertToInteractive(key) {\n",
              "          const element = document.querySelector('#df-66a793ff-d8e9-4ce9-9f12-683be77599eb');\n",
              "          const dataTable =\n",
              "            await google.colab.kernel.invokeFunction('convertToInteractive',\n",
              "                                                     [key], {});\n",
              "          if (!dataTable) return;\n",
              "\n",
              "          const docLinkHtml = 'Like what you see? Visit the ' +\n",
              "            '<a target=\"_blank\" href=https://colab.research.google.com/notebooks/data_table.ipynb>data table notebook</a>'\n",
              "            + ' to learn more about interactive tables.';\n",
              "          element.innerHTML = '';\n",
              "          dataTable['output_type'] = 'display_data';\n",
              "          await google.colab.output.renderOutput(dataTable, element);\n",
              "          const docLink = document.createElement('div');\n",
              "          docLink.innerHTML = docLinkHtml;\n",
              "          element.appendChild(docLink);\n",
              "        }\n",
              "      </script>\n",
              "    </div>\n",
              "  </div>\n",
              "  "
            ]
          },
          "metadata": {},
          "execution_count": 18
        }
      ]
    },
    {
      "cell_type": "code",
      "source": [
        "train_dataset = np.array(train_dataset, dtype = np.float64)\n",
        "test_dataset = np.array(test_dataset,dtype = np.float64)"
      ],
      "metadata": {
        "id": "mmQ46oYQjaGK"
      },
      "execution_count": 19,
      "outputs": []
    },
    {
      "cell_type": "code",
      "source": [
        "from tensorflow.keras import regularizers"
      ],
      "metadata": {
        "id": "AaOmotiRsAyZ"
      },
      "execution_count": 20,
      "outputs": []
    },
    {
      "cell_type": "code",
      "source": [
        "normalizer = layers.experimental.preprocessing.Normalization()\n",
        "normalizer.adapt(np.array(train_dataset))# dtype float 32 is needed because without this the array cannot be put into a tensor\n",
        "\n",
        "model = keras.Sequential([\n",
        "    normalizer,\n",
        "    layers.Dense(16,kernel_regularizer=regularizers.l2(0.001)),\n",
        "    layers.Dense(4,kernel_regularizer=regularizers.l2(0.001)),\n",
        "    layers.Dropout(0.2),\n",
        "    layers.Dense(1),\n",
        "])"
      ],
      "metadata": {
        "id": "M8H69rNWKynX"
      },
      "execution_count": 21,
      "outputs": []
    },
    {
      "cell_type": "code",
      "source": [
        "model.compile(optimizer = tf.optimizers.Adam(learning_rate = 0.01), loss = \"mae\", metrics = [\"mae\",\"mse\"])\n",
        "model.build()\n",
        "model.summary()"
      ],
      "metadata": {
        "id": "_9LT8sAVSN3A",
        "colab": {
          "base_uri": "https://localhost:8080/"
        },
        "outputId": "5929e14c-adcc-46f7-b0e5-82a690d28358"
      },
      "execution_count": 22,
      "outputs": [
        {
          "output_type": "stream",
          "name": "stdout",
          "text": [
            "Model: \"sequential\"\n",
            "_________________________________________________________________\n",
            " Layer (type)                Output Shape              Param #   \n",
            "=================================================================\n",
            " normalization (Normalizatio  (None, 6)                13        \n",
            " n)                                                              \n",
            "                                                                 \n",
            " dense (Dense)               (None, 16)                112       \n",
            "                                                                 \n",
            " dense_1 (Dense)             (None, 4)                 68        \n",
            "                                                                 \n",
            " dropout (Dropout)           (None, 4)                 0         \n",
            "                                                                 \n",
            " dense_2 (Dense)             (None, 1)                 5         \n",
            "                                                                 \n",
            "=================================================================\n",
            "Total params: 198\n",
            "Trainable params: 185\n",
            "Non-trainable params: 13\n",
            "_________________________________________________________________\n"
          ]
        }
      ]
    },
    {
      "cell_type": "code",
      "source": [
        "model.fit(train_dataset,train_labels,epochs = 100, validation_split = 0.5)"
      ],
      "metadata": {
        "id": "pFPKaSl_Te5r",
        "colab": {
          "base_uri": "https://localhost:8080/"
        },
        "outputId": "cb347600-0556-4a17-ace5-e17fe6fba136"
      },
      "execution_count": 29,
      "outputs": [
        {
          "output_type": "stream",
          "name": "stdout",
          "text": [
            "Epoch 1/100\n",
            "17/17 [==============================] - 0s 12ms/step - loss: 4687.8950 - mae: 4685.6128 - mse: 60883984.0000 - val_loss: 3617.9963 - val_mae: 3615.7190 - val_mse: 39521432.0000\n",
            "Epoch 2/100\n",
            "17/17 [==============================] - 0s 8ms/step - loss: 4727.1313 - mae: 4724.8560 - mse: 61601372.0000 - val_loss: 3603.3330 - val_mae: 3601.0525 - val_mse: 39509820.0000\n",
            "Epoch 3/100\n",
            "17/17 [==============================] - 0s 8ms/step - loss: 4482.4297 - mae: 4480.1567 - mse: 55959188.0000 - val_loss: 3604.8894 - val_mae: 3602.6260 - val_mse: 39568776.0000\n",
            "Epoch 4/100\n",
            "17/17 [==============================] - 0s 8ms/step - loss: 4747.1631 - mae: 4744.8960 - mse: 57826844.0000 - val_loss: 3575.7068 - val_mae: 3573.4353 - val_mse: 39468624.0000\n",
            "Epoch 5/100\n",
            "17/17 [==============================] - 0s 9ms/step - loss: 4717.1201 - mae: 4714.8423 - mse: 62029632.0000 - val_loss: 3565.4062 - val_mae: 3563.1260 - val_mse: 39471528.0000\n",
            "Epoch 6/100\n",
            "17/17 [==============================] - 0s 9ms/step - loss: 4745.4429 - mae: 4743.1587 - mse: 62993460.0000 - val_loss: 3565.7356 - val_mae: 3563.4485 - val_mse: 39494840.0000\n",
            "Epoch 7/100\n",
            "17/17 [==============================] - 0s 9ms/step - loss: 4478.3589 - mae: 4476.0718 - mse: 55062144.0000 - val_loss: 3589.7837 - val_mae: 3587.5010 - val_mse: 39552876.0000\n",
            "Epoch 8/100\n",
            "17/17 [==============================] - 0s 8ms/step - loss: 4929.9780 - mae: 4927.6899 - mse: 68949400.0000 - val_loss: 3599.8853 - val_mae: 3597.5962 - val_mse: 39324572.0000\n",
            "Epoch 9/100\n",
            "17/17 [==============================] - 0s 10ms/step - loss: 4505.3823 - mae: 4503.1006 - mse: 56150140.0000 - val_loss: 3586.8184 - val_mae: 3584.5261 - val_mse: 39207492.0000\n",
            "Epoch 10/100\n",
            "17/17 [==============================] - 0s 9ms/step - loss: 4448.5132 - mae: 4446.2104 - mse: 52765204.0000 - val_loss: 3588.2180 - val_mae: 3585.9224 - val_mse: 39101988.0000\n",
            "Epoch 11/100\n",
            "17/17 [==============================] - 0s 8ms/step - loss: 4624.4419 - mae: 4622.1582 - mse: 60016556.0000 - val_loss: 3627.5430 - val_mae: 3625.2742 - val_mse: 39671496.0000\n",
            "Epoch 12/100\n",
            "17/17 [==============================] - 0s 8ms/step - loss: 4705.4121 - mae: 4703.1548 - mse: 61768164.0000 - val_loss: 3621.5227 - val_mae: 3619.2610 - val_mse: 39807528.0000\n",
            "Epoch 13/100\n",
            "17/17 [==============================] - 0s 8ms/step - loss: 4730.0137 - mae: 4727.7412 - mse: 59776132.0000 - val_loss: 3571.7385 - val_mae: 3569.4587 - val_mse: 39454448.0000\n",
            "Epoch 14/100\n",
            "17/17 [==============================] - 0s 8ms/step - loss: 4609.4160 - mae: 4607.1421 - mse: 58098884.0000 - val_loss: 3608.0305 - val_mae: 3605.7634 - val_mse: 39558992.0000\n",
            "Epoch 15/100\n",
            "17/17 [==============================] - 0s 5ms/step - loss: 4660.1025 - mae: 4657.8350 - mse: 62739416.0000 - val_loss: 3600.9673 - val_mae: 3598.6953 - val_mse: 39483348.0000\n",
            "Epoch 16/100\n",
            "17/17 [==============================] - 0s 8ms/step - loss: 4529.4233 - mae: 4527.1450 - mse: 56305972.0000 - val_loss: 3609.0081 - val_mae: 3606.7224 - val_mse: 39111916.0000\n",
            "Epoch 17/100\n",
            "17/17 [==============================] - 0s 8ms/step - loss: 4776.0986 - mae: 4773.8096 - mse: 63214692.0000 - val_loss: 3597.5181 - val_mae: 3595.2397 - val_mse: 39095728.0000\n",
            "Epoch 18/100\n",
            "17/17 [==============================] - 0s 8ms/step - loss: 4908.8018 - mae: 4906.5415 - mse: 68673592.0000 - val_loss: 3639.4053 - val_mae: 3637.1565 - val_mse: 39800124.0000\n",
            "Epoch 19/100\n",
            "17/17 [==============================] - 0s 8ms/step - loss: 4665.9604 - mae: 4663.7031 - mse: 61573268.0000 - val_loss: 3650.7058 - val_mae: 3648.4424 - val_mse: 39656584.0000\n",
            "Epoch 20/100\n",
            "17/17 [==============================] - 0s 6ms/step - loss: 4837.6729 - mae: 4835.4038 - mse: 66528388.0000 - val_loss: 3632.1768 - val_mae: 3629.9048 - val_mse: 39360096.0000\n",
            "Epoch 21/100\n",
            "17/17 [==============================] - 0s 5ms/step - loss: 4960.5234 - mae: 4958.2642 - mse: 69272984.0000 - val_loss: 3643.4141 - val_mae: 3641.1670 - val_mse: 40058452.0000\n",
            "Epoch 22/100\n",
            "17/17 [==============================] - 0s 8ms/step - loss: 4934.4233 - mae: 4932.1670 - mse: 67619240.0000 - val_loss: 3615.4006 - val_mae: 3613.1387 - val_mse: 39819760.0000\n",
            "Epoch 23/100\n",
            "17/17 [==============================] - 0s 5ms/step - loss: 4918.2246 - mae: 4915.9653 - mse: 66802880.0000 - val_loss: 3597.4944 - val_mae: 3595.2310 - val_mse: 39799416.0000\n",
            "Epoch 24/100\n",
            "17/17 [==============================] - 0s 8ms/step - loss: 4592.4023 - mae: 4590.1411 - mse: 59545616.0000 - val_loss: 3621.0642 - val_mae: 3618.7932 - val_mse: 39920560.0000\n",
            "Epoch 25/100\n",
            "17/17 [==============================] - 0s 6ms/step - loss: 4927.7749 - mae: 4925.4907 - mse: 66150492.0000 - val_loss: 3597.7979 - val_mae: 3595.5068 - val_mse: 39776652.0000\n",
            "Epoch 26/100\n",
            "17/17 [==============================] - 0s 8ms/step - loss: 4970.2271 - mae: 4967.9443 - mse: 67401608.0000 - val_loss: 3593.5408 - val_mae: 3591.2690 - val_mse: 39976292.0000\n",
            "Epoch 27/100\n",
            "17/17 [==============================] - 0s 8ms/step - loss: 4846.2939 - mae: 4844.0073 - mse: 64161236.0000 - val_loss: 3570.8564 - val_mae: 3568.5554 - val_mse: 39234488.0000\n",
            "Epoch 28/100\n",
            "17/17 [==============================] - 0s 8ms/step - loss: 4406.8252 - mae: 4404.5244 - mse: 55549908.0000 - val_loss: 3579.8855 - val_mae: 3577.5867 - val_mse: 38944324.0000\n",
            "Epoch 29/100\n",
            "17/17 [==============================] - 0s 6ms/step - loss: 4883.3652 - mae: 4881.0703 - mse: 65961592.0000 - val_loss: 3582.4243 - val_mae: 3580.1382 - val_mse: 39301344.0000\n",
            "Epoch 30/100\n",
            "17/17 [==============================] - 0s 8ms/step - loss: 4590.4541 - mae: 4588.1699 - mse: 59105968.0000 - val_loss: 3612.6135 - val_mae: 3610.3352 - val_mse: 39719800.0000\n",
            "Epoch 31/100\n",
            "17/17 [==============================] - 0s 8ms/step - loss: 4589.5630 - mae: 4587.2886 - mse: 56774356.0000 - val_loss: 3634.0481 - val_mae: 3631.7729 - val_mse: 39658472.0000\n",
            "Epoch 32/100\n",
            "17/17 [==============================] - 0s 6ms/step - loss: 4510.9702 - mae: 4508.7012 - mse: 57486056.0000 - val_loss: 3660.9521 - val_mae: 3658.6899 - val_mse: 39753368.0000\n",
            "Epoch 33/100\n",
            "17/17 [==============================] - 0s 5ms/step - loss: 4514.4077 - mae: 4512.1411 - mse: 58084796.0000 - val_loss: 3623.6238 - val_mae: 3621.3521 - val_mse: 39568912.0000\n",
            "Epoch 34/100\n",
            "17/17 [==============================] - 0s 8ms/step - loss: 4599.0791 - mae: 4596.8096 - mse: 58725740.0000 - val_loss: 3595.5488 - val_mae: 3593.2869 - val_mse: 39507560.0000\n",
            "Epoch 35/100\n",
            "17/17 [==============================] - 0s 6ms/step - loss: 4561.0396 - mae: 4558.7803 - mse: 57575200.0000 - val_loss: 3597.3489 - val_mae: 3595.0808 - val_mse: 39081940.0000\n",
            "Epoch 36/100\n",
            "17/17 [==============================] - 0s 8ms/step - loss: 4627.9385 - mae: 4625.6533 - mse: 60987868.0000 - val_loss: 3572.5088 - val_mae: 3570.2175 - val_mse: 38788120.0000\n",
            "Epoch 37/100\n",
            "17/17 [==============================] - 0s 8ms/step - loss: 4808.1802 - mae: 4805.8901 - mse: 63720508.0000 - val_loss: 3583.8455 - val_mae: 3581.5654 - val_mse: 39255844.0000\n",
            "Epoch 38/100\n",
            "17/17 [==============================] - 0s 6ms/step - loss: 4725.2402 - mae: 4722.9639 - mse: 63577904.0000 - val_loss: 3560.7461 - val_mae: 3558.4792 - val_mse: 39718820.0000\n",
            "Epoch 39/100\n",
            "17/17 [==============================] - 0s 7ms/step - loss: 4633.2354 - mae: 4630.9761 - mse: 62956852.0000 - val_loss: 3563.8948 - val_mae: 3561.6338 - val_mse: 39942916.0000\n",
            "Epoch 40/100\n",
            "17/17 [==============================] - 0s 7ms/step - loss: 4731.3521 - mae: 4729.0703 - mse: 61499620.0000 - val_loss: 3572.0889 - val_mae: 3569.7969 - val_mse: 39483052.0000\n",
            "Epoch 41/100\n",
            "17/17 [==============================] - 0s 5ms/step - loss: 4729.8550 - mae: 4727.5635 - mse: 58876100.0000 - val_loss: 3589.2939 - val_mae: 3587.0027 - val_mse: 39593460.0000\n",
            "Epoch 42/100\n",
            "17/17 [==============================] - 0s 6ms/step - loss: 4474.6475 - mae: 4472.3643 - mse: 56790488.0000 - val_loss: 3630.0020 - val_mae: 3627.7231 - val_mse: 40094808.0000\n",
            "Epoch 43/100\n",
            "17/17 [==============================] - 0s 8ms/step - loss: 4565.4517 - mae: 4563.1792 - mse: 57320004.0000 - val_loss: 3619.2808 - val_mae: 3617.0044 - val_mse: 39716948.0000\n",
            "Epoch 44/100\n",
            "17/17 [==============================] - 0s 7ms/step - loss: 4880.9023 - mae: 4878.6255 - mse: 71309808.0000 - val_loss: 3606.1497 - val_mae: 3603.8853 - val_mse: 39553156.0000\n",
            "Epoch 45/100\n",
            "17/17 [==============================] - 0s 6ms/step - loss: 4601.6313 - mae: 4599.3750 - mse: 62224632.0000 - val_loss: 3608.6169 - val_mae: 3606.3506 - val_mse: 39559036.0000\n",
            "Epoch 46/100\n",
            "17/17 [==============================] - 0s 8ms/step - loss: 4705.5527 - mae: 4703.2783 - mse: 61409448.0000 - val_loss: 3635.7915 - val_mae: 3633.5151 - val_mse: 39259960.0000\n",
            "Epoch 47/100\n",
            "17/17 [==============================] - 0s 8ms/step - loss: 4538.2329 - mae: 4535.9507 - mse: 57137788.0000 - val_loss: 3627.5681 - val_mae: 3625.2920 - val_mse: 39240036.0000\n",
            "Epoch 48/100\n",
            "17/17 [==============================] - 0s 7ms/step - loss: 4457.7510 - mae: 4455.4854 - mse: 57803964.0000 - val_loss: 3640.4487 - val_mae: 3638.1841 - val_mse: 39491820.0000\n",
            "Epoch 49/100\n",
            "17/17 [==============================] - 0s 8ms/step - loss: 4715.6875 - mae: 4713.4087 - mse: 60653524.0000 - val_loss: 3614.2776 - val_mae: 3611.9863 - val_mse: 38866660.0000\n",
            "Epoch 50/100\n",
            "17/17 [==============================] - 0s 8ms/step - loss: 4603.3555 - mae: 4601.0669 - mse: 58421476.0000 - val_loss: 3643.5527 - val_mae: 3641.2737 - val_mse: 39133304.0000\n",
            "Epoch 51/100\n",
            "17/17 [==============================] - 0s 8ms/step - loss: 5043.7983 - mae: 5041.5342 - mse: 68482120.0000 - val_loss: 3656.9043 - val_mae: 3654.6465 - val_mse: 39494772.0000\n",
            "Epoch 52/100\n",
            "17/17 [==============================] - 0s 8ms/step - loss: 4835.3442 - mae: 4833.0879 - mse: 66085616.0000 - val_loss: 3653.7432 - val_mae: 3651.4871 - val_mse: 39782916.0000\n",
            "Epoch 53/100\n",
            "17/17 [==============================] - 0s 8ms/step - loss: 4511.9277 - mae: 4509.6538 - mse: 57849620.0000 - val_loss: 3602.9258 - val_mae: 3600.6379 - val_mse: 39003848.0000\n",
            "Epoch 54/100\n",
            "17/17 [==============================] - 0s 8ms/step - loss: 4516.7339 - mae: 4514.4512 - mse: 56889860.0000 - val_loss: 3610.4641 - val_mae: 3608.1943 - val_mse: 39334824.0000\n",
            "Epoch 55/100\n",
            "17/17 [==============================] - 0s 8ms/step - loss: 4807.4312 - mae: 4805.1768 - mse: 64885724.0000 - val_loss: 3614.1335 - val_mae: 3611.8792 - val_mse: 39651160.0000\n",
            "Epoch 56/100\n",
            "17/17 [==============================] - 0s 8ms/step - loss: 4589.5156 - mae: 4587.2573 - mse: 58451640.0000 - val_loss: 3620.5679 - val_mae: 3618.2993 - val_mse: 39587116.0000\n",
            "Epoch 57/100\n",
            "17/17 [==============================] - 0s 8ms/step - loss: 4526.3438 - mae: 4524.0757 - mse: 57245056.0000 - val_loss: 3660.5325 - val_mae: 3658.2646 - val_mse: 39864000.0000\n",
            "Epoch 58/100\n",
            "17/17 [==============================] - 0s 5ms/step - loss: 4725.9683 - mae: 4723.7021 - mse: 65361480.0000 - val_loss: 3648.3093 - val_mae: 3646.0396 - val_mse: 39787052.0000\n",
            "Epoch 59/100\n",
            "17/17 [==============================] - 0s 6ms/step - loss: 4657.3857 - mae: 4655.1016 - mse: 64210144.0000 - val_loss: 3609.7429 - val_mae: 3607.4521 - val_mse: 39465332.0000\n",
            "Epoch 60/100\n",
            "17/17 [==============================] - 0s 6ms/step - loss: 4834.0840 - mae: 4831.7983 - mse: 65234940.0000 - val_loss: 3594.6875 - val_mae: 3592.4099 - val_mse: 39674140.0000\n",
            "Epoch 61/100\n",
            "17/17 [==============================] - 0s 7ms/step - loss: 4667.4263 - mae: 4665.1621 - mse: 61908264.0000 - val_loss: 3617.8916 - val_mae: 3615.6265 - val_mse: 39518432.0000\n",
            "Epoch 62/100\n",
            "17/17 [==============================] - 0s 6ms/step - loss: 4740.5054 - mae: 4738.2334 - mse: 64448568.0000 - val_loss: 3603.6379 - val_mae: 3601.3599 - val_mse: 39386500.0000\n",
            "Epoch 63/100\n",
            "17/17 [==============================] - 0s 7ms/step - loss: 5038.0244 - mae: 5035.7520 - mse: 71032048.0000 - val_loss: 3627.9763 - val_mae: 3625.7188 - val_mse: 40109480.0000\n",
            "Epoch 64/100\n",
            "17/17 [==============================] - 0s 7ms/step - loss: 4939.3228 - mae: 4937.0820 - mse: 70621304.0000 - val_loss: 3668.2529 - val_mae: 3666.0125 - val_mse: 40394204.0000\n",
            "Epoch 65/100\n",
            "17/17 [==============================] - 0s 8ms/step - loss: 4490.9673 - mae: 4488.7168 - mse: 54982480.0000 - val_loss: 3625.7993 - val_mae: 3623.5334 - val_mse: 39999128.0000\n",
            "Epoch 66/100\n",
            "17/17 [==============================] - 0s 8ms/step - loss: 4782.9688 - mae: 4780.6875 - mse: 65134920.0000 - val_loss: 3550.4624 - val_mae: 3548.1733 - val_mse: 39236196.0000\n",
            "Epoch 67/100\n",
            "17/17 [==============================] - 0s 6ms/step - loss: 4901.5381 - mae: 4899.2515 - mse: 64807992.0000 - val_loss: 3564.2246 - val_mae: 3561.9451 - val_mse: 39234136.0000\n",
            "Epoch 68/100\n",
            "17/17 [==============================] - 0s 6ms/step - loss: 4829.1475 - mae: 4826.8721 - mse: 63741656.0000 - val_loss: 3576.9021 - val_mae: 3574.6235 - val_mse: 39138904.0000\n",
            "Epoch 69/100\n",
            "17/17 [==============================] - 0s 8ms/step - loss: 4697.2314 - mae: 4694.9561 - mse: 61570320.0000 - val_loss: 3610.7078 - val_mae: 3608.4360 - val_mse: 39277336.0000\n",
            "Epoch 70/100\n",
            "17/17 [==============================] - 0s 8ms/step - loss: 4860.8740 - mae: 4858.5933 - mse: 66058084.0000 - val_loss: 3613.1553 - val_mae: 3610.8784 - val_mse: 39036260.0000\n",
            "Epoch 71/100\n",
            "17/17 [==============================] - 0s 8ms/step - loss: 4736.1499 - mae: 4733.8799 - mse: 59128252.0000 - val_loss: 3610.0308 - val_mae: 3607.7607 - val_mse: 39234780.0000\n",
            "Epoch 72/100\n",
            "17/17 [==============================] - 0s 8ms/step - loss: 4499.2993 - mae: 4497.0234 - mse: 58734888.0000 - val_loss: 3592.5249 - val_mae: 3590.2480 - val_mse: 39123620.0000\n",
            "Epoch 73/100\n",
            "17/17 [==============================] - 0s 5ms/step - loss: 4589.4077 - mae: 4587.1362 - mse: 60040064.0000 - val_loss: 3589.4172 - val_mae: 3587.1396 - val_mse: 38890124.0000\n",
            "Epoch 74/100\n",
            "17/17 [==============================] - 0s 8ms/step - loss: 4765.5190 - mae: 4763.2412 - mse: 63683992.0000 - val_loss: 3636.8318 - val_mae: 3634.5701 - val_mse: 39173492.0000\n",
            "Epoch 75/100\n",
            "17/17 [==============================] - 0s 8ms/step - loss: 4648.4399 - mae: 4646.1792 - mse: 58285468.0000 - val_loss: 3642.6694 - val_mae: 3640.4092 - val_mse: 39567444.0000\n",
            "Epoch 76/100\n",
            "17/17 [==============================] - 0s 6ms/step - loss: 4716.1616 - mae: 4713.8945 - mse: 63654812.0000 - val_loss: 3604.5525 - val_mae: 3602.2798 - val_mse: 39546020.0000\n",
            "Epoch 77/100\n",
            "17/17 [==============================] - 0s 8ms/step - loss: 4652.9600 - mae: 4650.6816 - mse: 61278432.0000 - val_loss: 3615.7676 - val_mae: 3613.4790 - val_mse: 39373556.0000\n",
            "Epoch 78/100\n",
            "17/17 [==============================] - 0s 8ms/step - loss: 4410.7461 - mae: 4408.4619 - mse: 56626832.0000 - val_loss: 3641.2275 - val_mae: 3638.9534 - val_mse: 39517136.0000\n",
            "Epoch 79/100\n",
            "17/17 [==============================] - 0s 5ms/step - loss: 4888.3062 - mae: 4886.0352 - mse: 63533596.0000 - val_loss: 3632.1279 - val_mae: 3629.8611 - val_mse: 39945284.0000\n",
            "Epoch 80/100\n",
            "17/17 [==============================] - 0s 8ms/step - loss: 4807.1821 - mae: 4804.9214 - mse: 65728468.0000 - val_loss: 3651.1936 - val_mae: 3648.9375 - val_mse: 40005948.0000\n",
            "Epoch 81/100\n",
            "17/17 [==============================] - 0s 8ms/step - loss: 4551.3008 - mae: 4549.0381 - mse: 57772548.0000 - val_loss: 3615.0020 - val_mae: 3612.7231 - val_mse: 39253276.0000\n",
            "Epoch 82/100\n",
            "17/17 [==============================] - 0s 6ms/step - loss: 4721.6367 - mae: 4719.3647 - mse: 62246692.0000 - val_loss: 3611.4246 - val_mae: 3609.1592 - val_mse: 39278224.0000\n",
            "Epoch 83/100\n",
            "17/17 [==============================] - 0s 8ms/step - loss: 4712.8545 - mae: 4710.5884 - mse: 60443292.0000 - val_loss: 3642.0364 - val_mae: 3639.7839 - val_mse: 39662484.0000\n",
            "Epoch 84/100\n",
            "17/17 [==============================] - 0s 6ms/step - loss: 4809.0210 - mae: 4806.7700 - mse: 65492392.0000 - val_loss: 3633.8596 - val_mae: 3631.6086 - val_mse: 39601796.0000\n",
            "Epoch 85/100\n",
            "17/17 [==============================] - 0s 8ms/step - loss: 4731.2793 - mae: 4729.0278 - mse: 66698728.0000 - val_loss: 3663.0107 - val_mae: 3660.7627 - val_mse: 39432772.0000\n",
            "Epoch 86/100\n",
            "17/17 [==============================] - 0s 8ms/step - loss: 4698.3369 - mae: 4696.0918 - mse: 59712848.0000 - val_loss: 3662.2925 - val_mae: 3660.0442 - val_mse: 39287800.0000\n",
            "Epoch 87/100\n",
            "17/17 [==============================] - 0s 8ms/step - loss: 4849.7402 - mae: 4847.4863 - mse: 64079496.0000 - val_loss: 3683.9292 - val_mae: 3681.6719 - val_mse: 39398756.0000\n",
            "Epoch 88/100\n",
            "17/17 [==============================] - 0s 8ms/step - loss: 4699.7021 - mae: 4697.4414 - mse: 59022968.0000 - val_loss: 3630.7510 - val_mae: 3628.4814 - val_mse: 39323628.0000\n",
            "Epoch 89/100\n",
            "17/17 [==============================] - 0s 8ms/step - loss: 4526.7300 - mae: 4524.4590 - mse: 57575044.0000 - val_loss: 3632.3901 - val_mae: 3630.1213 - val_mse: 39483224.0000\n",
            "Epoch 90/100\n",
            "17/17 [==============================] - 0s 10ms/step - loss: 4730.8232 - mae: 4728.5601 - mse: 64372744.0000 - val_loss: 3613.0752 - val_mae: 3610.8159 - val_mse: 39910408.0000\n",
            "Epoch 91/100\n",
            "17/17 [==============================] - 0s 12ms/step - loss: 4774.4150 - mae: 4772.1533 - mse: 60794116.0000 - val_loss: 3646.5374 - val_mae: 3644.2737 - val_mse: 40239372.0000\n",
            "Epoch 92/100\n",
            "17/17 [==============================] - 0s 10ms/step - loss: 4598.3101 - mae: 4596.0391 - mse: 59071688.0000 - val_loss: 3597.5339 - val_mae: 3595.2502 - val_mse: 39724112.0000\n",
            "Epoch 93/100\n",
            "17/17 [==============================] - 0s 9ms/step - loss: 4621.6836 - mae: 4619.4111 - mse: 58581452.0000 - val_loss: 3607.1372 - val_mae: 3604.8782 - val_mse: 39783980.0000\n",
            "Epoch 94/100\n",
            "17/17 [==============================] - 0s 9ms/step - loss: 4767.3442 - mae: 4765.0835 - mse: 62977992.0000 - val_loss: 3624.2324 - val_mae: 3621.9749 - val_mse: 39594824.0000\n",
            "Epoch 95/100\n",
            "17/17 [==============================] - 0s 9ms/step - loss: 4683.3804 - mae: 4681.1333 - mse: 65841180.0000 - val_loss: 3630.7678 - val_mae: 3628.5242 - val_mse: 40280184.0000\n",
            "Epoch 96/100\n",
            "17/17 [==============================] - 0s 10ms/step - loss: 4434.7417 - mae: 4432.4922 - mse: 54801960.0000 - val_loss: 3615.7219 - val_mae: 3613.4629 - val_mse: 40281280.0000\n",
            "Epoch 97/100\n",
            "17/17 [==============================] - 0s 9ms/step - loss: 4976.0498 - mae: 4973.7764 - mse: 74623032.0000 - val_loss: 3576.1643 - val_mae: 3573.8877 - val_mse: 40056508.0000\n",
            "Epoch 98/100\n",
            "17/17 [==============================] - 0s 11ms/step - loss: 4717.9492 - mae: 4715.6904 - mse: 65370384.0000 - val_loss: 3632.8762 - val_mae: 3630.6284 - val_mse: 40615744.0000\n",
            "Epoch 99/100\n",
            "17/17 [==============================] - 0s 9ms/step - loss: 4485.4438 - mae: 4483.1758 - mse: 56026956.0000 - val_loss: 3614.9590 - val_mae: 3612.6729 - val_mse: 40007904.0000\n",
            "Epoch 100/100\n",
            "17/17 [==============================] - 0s 10ms/step - loss: 4487.8711 - mae: 4485.5928 - mse: 56098592.0000 - val_loss: 3636.1787 - val_mae: 3633.9136 - val_mse: 40000044.0000\n"
          ]
        },
        {
          "output_type": "execute_result",
          "data": {
            "text/plain": [
              "<keras.callbacks.History at 0x7f361264e530>"
            ]
          },
          "metadata": {},
          "execution_count": 29
        }
      ]
    },
    {
      "cell_type": "code",
      "execution_count": 30,
      "metadata": {
        "id": "Xe7RXH3N3CWU",
        "colab": {
          "base_uri": "https://localhost:8080/",
          "height": 526
        },
        "outputId": "8d5ba099-42aa-417d-be17-38b800902d43"
      },
      "outputs": [
        {
          "output_type": "stream",
          "name": "stdout",
          "text": [
            "9/9 - 0s - loss: 3387.5415 - mae: 3385.2764 - mse: 37596608.0000 - 40ms/epoch - 4ms/step\n",
            "Testing set Mean Abs Error: 3385.28 expenses\n",
            "You passed the challenge. Great job!\n",
            "9/9 [==============================] - 0s 2ms/step\n"
          ]
        },
        {
          "output_type": "display_data",
          "data": {
            "text/plain": [
              "<Figure size 640x480 with 1 Axes>"
            ],
            "image/png": "[encoded data removed]"
          },
          "metadata": {}
        }
      ],
      "source": [
        "#RUN THIS CELL TO TEST YOUR MODEL. DO NOT MODIFY CONTENTS.\n",
        "# Test model by checking how well the model generalizes using the test set.\n",
        "loss, mae, mse = model.evaluate(test_dataset, test_labels, verbose=2)\n",
        "\n",
        "print(\"Testing set Mean Abs Error: {:5.2f} expenses\".format(mae))\n",
        "\n",
        "if mae < 3500:\n",
        "  print(\"You passed the challenge. Great job!\")\n",
        "else:\n",
        "  print(\"The Mean Abs Error must be less than 3500. Keep trying.\")\n",
        "\n",
        "# Plot predictions.\n",
        "test_predictions = model.predict(test_dataset).flatten()\n",
        "\n",
        "a = plt.axes(aspect='equal')\n",
        "plt.scatter(test_labels, test_predictions)\n",
        "plt.xlabel('True values (expenses)')\n",
        "plt.ylabel('Predictions (expenses)')\n",
        "lims = [0, 50000]\n",
        "plt.xlim(lims)\n",
        "plt.ylim(lims)\n",
        "_ = plt.plot(lims,lims)\n"
      ]
    }
  ],
  "metadata": {
    "colab": {
      "provenance": [],
      "toc_visible": true
    },
    "kernelspec": {
      "display_name": "Python 3",
      "name": "python3"
    },
    "gpuClass": "standard"
  },
  "nbformat": 4,
  "nbformat_minor": 0
}